{
 "metadata": {
  "language_info": {
   "codemirror_mode": {
    "name": "ipython",
    "version": 3
   },
   "file_extension": ".py",
   "mimetype": "text/x-python",
   "name": "python",
   "nbconvert_exporter": "python",
   "pygments_lexer": "ipython3",
   "version": "3.7.10"
  },
  "orig_nbformat": 2,
  "kernelspec": {
   "name": "python3710jvsc74a57bd0fd69f43f58546b570e94fd7eba7b65e6bcc7a5bbc4eab0408017d18902915d69",
   "display_name": "Python 3.7.10 64-bit"
  },
  "metadata": {
   "interpreter": {
    "hash": "fd69f43f58546b570e94fd7eba7b65e6bcc7a5bbc4eab0408017d18902915d69"
   }
  }
 },
 "nbformat": 4,
 "nbformat_minor": 2,
 "cells": [
  {
   "cell_type": "code",
   "execution_count": 1,
   "metadata": {},
   "outputs": [],
   "source": [
    "from nutrition_data.nutrition_data_loader import NutritionDataLoader\n",
    "from loose_limits_algorithm.loose_limits_algorithm import LooseLimitsAlgorithm\n",
    "from random import randint\n",
    "from product import Solution\n",
    "from main import Model\n",
    "from selection_algos import *\n",
    "\n",
    "import numpy as np\n",
    "\n"
   ]
  },
  {
   "cell_type": "code",
   "execution_count": 2,
   "metadata": {},
   "outputs": [
    {
     "output_type": "stream",
     "name": "stdout",
     "text": [
      "Correct solutions:\n37\n\n"
     ]
    }
   ],
   "source": [
    "DATA_FILE = \"./nutrition_data/complete_database.csv\"\n",
    "PRODUCTS_NUMBER_RANGE = (5, 15)\n",
    "MIN_GRAMS = 50\n",
    "MAX_GRAMS = 2000\n",
    "\n",
    "CATEGORIES = [\n",
    "    \"Vegetables\",\n",
    "    \"Meats\",\n",
    "    \"Dairy and Egg Products\",\n",
    "    \"Fats and Oils\",\n",
    "    \"Grains and Pasta\",\n",
    "    \"Fruits\"\n",
    "]\n",
    "\n",
    "restrictions = {\n",
    "    \"calories\": (2100, 2500),\n",
    "    \"carbs\": (260, 320),\n",
    "    \"protein\": (65, 80),\n",
    "    \"fat\": (70, 90)\n",
    "}\n",
    "\n",
    "avg_restrictions = {\n",
    "    name: (r[0] + r[1]) / 2 for name, r in restrictions.items()\n",
    "}\n",
    "\n",
    "def simple_looseness(r_d, r_u, x):\n",
    "    if x < r_d:\n",
    "        return np.exp(min((r_d - x)/r_d, 2)) - 1\n",
    "    elif x <= r_u:\n",
    "        return 0\n",
    "    else:\n",
    "        return np.exp(min((x - r_u)/r_u, 2)) - 1\n",
    "\n",
    "looseness_functions = {\n",
    "    \"calories\": simple_looseness,\n",
    "    \"carbs\": simple_looseness,\n",
    "    \"protein\": simple_looseness,\n",
    "    \"fat\": simple_looseness\n",
    "}\n",
    "\n",
    "products_data_loader = NutritionDataLoader(DATA_FILE)\n",
    "products_data_loader.initial_preprocessing()\n",
    "model = Model(products_data_loader, restrictions)\n",
    "\n",
    "algo = LooseLimitsAlgorithm(restrictions, looseness_functions, 100, MIN_GRAMS, MAX_GRAMS)\n",
    "solutions = [\n",
    "    algo.look_for_solution(products_data_loader.generate_products(CATEGORIES, [3, 2, 2, 2, 2, 2])) for _ in range(1000)\n",
    "]\n",
    "\n",
    "print(\"Correct solutions:\")\n",
    "start_solutions = list(filter(lambda t: t[1] == 0, solutions))\n",
    "print(len(start_solutions))\n",
    "print()"
   ]
  },
  {
   "cell_type": "code",
   "execution_count": 17,
   "metadata": {},
   "outputs": [],
   "source": [
    "start_solutions = [s[0] for s in start_solutions]"
   ]
  },
  {
   "cell_type": "code",
   "execution_count": 95,
   "metadata": {},
   "outputs": [
    {
     "output_type": "stream",
     "name": "stdout",
     "text": [
      "[310.00033546290683, 298.0, 295.0000045206588, 339.00000083152884, 368.0000453999298]\n[412.00000000001387, 310.00033546290683, 386.0000003059023, 295.0000045206588, 298.0]\n[295.0000045206588, 298.0, 520.0000453999437, 642.0000022603294, 386.0000003059023]\n"
     ]
    }
   ],
   "source": [
    "import importlib\n",
    "import selection_algos\n",
    "from solution_scoring import solution_score\n",
    "importlib.reload(selection_algos)\n",
    "\n",
    "rank = selection_algos.selection_ranking(start_solutions, 5)\n",
    "tour = selection_algos.selection_tournament(start_solutions, 5)\n",
    "roul = selection_algos.selection_roulette(start_solutions, 5)\n",
    "print(list(map(solution_score, rank)))\n",
    "print(list(map(solution_score, tour)))\n",
    "print(list(map(solution_score, roul)))"
   ]
  }
 ]
}